{
 "cells": [
  {
   "cell_type": "markdown",
   "metadata": {},
   "source": [
    "# **<span style=\"color:skyblue;\">Guided Lab 342.3.2 - Insert Data Into MySQL From Python.</span>**\n",
    "\n",
    "\n",
    "### **<span style=\"color:skyblue;\">Learning Objective:</span>**\n",
    "In this lab, we will discover how to insert data into a table using MySQL Connector/Python. By the end of this lab, learners will be able to insert data into MySQL using Python.\n",
    "\n",
    "### **<span style=\"color:skyblue;\">Prerequisite:</span>**\n",
    "You must be familiar with using MySQL languages like Data Manipulation Language (DML) and Data Query Language (DQL). \n",
    "\n",
    "### **<span style=\"color:skyblue;\">Steps:</span>**\n",
    "- Create a database.\n",
    "- Create a table for demonstration.\n",
    "- To insert new rows into a MySQL table:\n",
    "\n",
    "   <span style=\"color:skyblue;\">1.</span> Connect to the MySQL database server by creating a new MySQLConnection object.\n",
    "\n",
    "   <span style=\"color:skyblue;\">2.</span> Initiate a MySQLCursor object from the MySQLConnection object.\n",
    "\n",
    "   <span style=\"color:skyblue;\">3.</span> Execute the INSERT statement to insert data into the table.\n",
    "  \n",
    "   <span style=\"color:skyblue;\">4.</span>  Close the database connection.\n",
    "\n",
    "\n"
   ]
  },
  {
   "cell_type": "markdown",
   "metadata": {},
   "source": [
    "### Creating a Database.\n",
    "create the “usersdb” database "
   ]
  },
  {
   "cell_type": "code",
   "execution_count": null,
   "metadata": {},
   "outputs": [],
   "source": [
    "# create a database\n",
    "\n",
    "import mysql.connector\n",
    "\n",
    "conn = mysql.connector.connect(user=\"root\",host=\"localhost\",password=\"perscholas1\")\n",
    "\n",
    "# get a cursor\n",
    "cursor = conn.cursor()\n",
    "\n",
    "# create a databse if not exists\n",
    "\n",
    "database_sql = \"CREATE DATABASE usersdb \"\n",
    "cursor.execute(database_sql)"
   ]
  },
  {
   "cell_type": "markdown",
   "metadata": {},
   "source": [
    "### Create a Table.\n",
    " \n",
    " we create a table in our newly created database \"usersdb\"\n"
   ]
  },
  {
   "cell_type": "code",
   "execution_count": null,
   "metadata": {},
   "outputs": [
    {
     "name": "stdout",
     "output_type": "stream",
     "text": [
      "table is created\n",
      "well done\n",
      "Mysql connection is close\n"
     ]
    }
   ],
   "source": [
    "# create a table \n",
    "import mysql.connector \n",
    "\n",
    "# init connection with the database\n",
    "try:\n",
    "    conn = mysql.connector.connect(database='usersdb',password=\"perscholas1\",host=\"localhost\")\n",
    "\n",
    "# get a cursor\n",
    "    cursor = conn.cursor()\n",
    "\n",
    "    table_sql = \"CREATE TABLE laptop (Id int(11) NOT NULL,Name varchar(250),Price float NOT NULL,Purchase_date date NOT NULL)\"\n",
    "    \n",
    "    cursor.execute(table_sql)\n",
    "    print(\"table is created\")\n",
    "except:\n",
    "    print(\"the table has not been created\")\n",
    "\n",
    "finally:\n",
    "    if conn.is_connected():\n",
    "        print(\"well done\")\n",
    "        cursor.close()\n",
    "        print(\"Mysql connection is close\")\n",
    "        "
   ]
  },
  {
   "cell_type": "markdown",
   "metadata": {},
   "source": [
    " ### Insert a Single Row into MySQL Table from Python\n",
    "\n",
    "we will Insert a Single Row into MySQL Table from Python.\n"
   ]
  },
  {
   "cell_type": "code",
   "execution_count": 8,
   "metadata": {},
   "outputs": [
    {
     "name": "stdout",
     "output_type": "stream",
     "text": [
      "Data was inserted successfully\n"
     ]
    }
   ],
   "source": [
    "import mysql.connector\n",
    "\n",
    "try:\n",
    "    conn = mysql.connector.connect(database='usersdb', password='perscholas1', host='localhost', user='root')\n",
    "\n",
    "    sql_query = \"\"\"INSERT INTO laptop(Id, Name, Price, Purchase_date) \n",
    "                   VALUES\n",
    "                   (15, 'Lenovo ThinkPad', 6459, '2019-08-14') \"\"\"\n",
    "    cursor = conn.cursor()\n",
    "    cursor.execute(sql_query)\n",
    "    conn.commit()  # Commit changes to the database\n",
    "    cursor.close()\n",
    "    print(\"Data was inserted successfully\")\n",
    "\n",
    "except mysql.connector.Error as err:\n",
    "    print(\"An error occurred:\", err)\n",
    "\n",
    "finally:\n",
    "    if 'cursor' in locals():\n",
    "        cursor.close()\n",
    "    if 'conn' in locals():\n",
    "        conn.close()\n",
    "\n",
    "    "
   ]
  },
  {
   "cell_type": "markdown",
   "metadata": {},
   "source": [
    "#### Use Python Variables in a MySQL Insert Query\n",
    "Sometimes, you need to insert a Python variable value into a table’s column. For example, in the user signup form, the user enters his/her details. You can take those values in Python variables and insert them into a table."
   ]
  },
  {
   "cell_type": "code",
   "execution_count": 9,
   "metadata": {},
   "outputs": [
    {
     "name": "stdout",
     "output_type": "stream",
     "text": [
      "Record inserted successfully into Laptop table\n",
      "MySQL connection is closed\n",
      "Record inserted successfully into Laptop table\n",
      "MySQL connection is closed\n"
     ]
    }
   ],
   "source": [
    "import mysql.connector\n",
    "\n",
    "def insert_variables_into_table(id, name, price, purchase_date):\n",
    "\n",
    "    try:\n",
    "        conn = mysql.connector.connect(database='usersdb',password=\"perscholas1\",host=\"localhost\")\n",
    "        cursor = conn.cursor()\n",
    "        query = \"\"\"INSERT INTO laptop(Id, Name, Price, Purchase_date)\n",
    "                VALUES\n",
    "                (%s, %s, %s, %s)\"\"\"\n",
    "        record = (id, name, price, purchase_date)\n",
    "        cursor.execute(query,record)\n",
    "        conn.commit()\n",
    "        print(\"Record inserted successfully into Laptop table\")\n",
    "    \n",
    "    except mysql.connector.Error as e:\n",
    "        print(\"Failed to insert into MySQL table {}\".format(error))\n",
    "        \n",
    "    finally:\n",
    "        if conn.is_connected():\n",
    "            conn.close()\n",
    "            conn.close()\n",
    "            print(\"MySQL connection is closed\")\n",
    "\n",
    "\n",
    "insert_variables_into_table(2, 'Area 51M', 6999, '2019-04-14') \n",
    "insert_variables_into_table(3, 'MacBook Pro', 2499, '2019-06-20')  "
   ]
  },
  {
   "cell_type": "markdown",
   "metadata": {},
   "source": [
    " #### Insert multiple rows into MySQL Table using cursor’s executemany()\n",
    "to insert multiple rows into a table in a single insert query from the Python application. Use the cursor’s executemany() function to insert multiple records into a table. \n",
    "\n",
    "**Syntax:**\n",
    "\n",
    "**<span style=\"color:RED;\">cursor.executemany(operation, seq_of_params)</span>**"
   ]
  },
  {
   "cell_type": "code",
   "execution_count": 15,
   "metadata": {},
   "outputs": [
    {
     "name": "stdout",
     "output_type": "stream",
     "text": [
      "3 Record inserted successfully into Laptop table\n",
      "MySQL connection is closed\n"
     ]
    }
   ],
   "source": [
    "import mysql.connector as mydbconnection\n",
    "from mysql.connector import Error\n",
    "\n",
    "try:\n",
    "    conn = mydbconnection.connect(database='usersdb', user='root',password='perscholas1', port ='3306')\n",
    "\n",
    "    mySql_insert_query = \"\"\"INSERT INTO laptop (Id, Name, Price, Purchase_date) \n",
    "                           VALUES (%s, %s, %s, %s) \"\"\"\n",
    "\n",
    "    records_to_insert = [(4, 'HP Pavilion Power', 1999, '2019-01-11'),\n",
    "                         (5, 'MSI WS75 9TL-496', 5799, '2019-02-27'),\n",
    "                         (6, 'Microsoft Surface', 2330, '2019-07-23')]\n",
    "    cursor = conn.cursor()\n",
    "    cursor.executemany(mySql_insert_query, records_to_insert)\n",
    "    conn.commit()\n",
    "    print(cursor.rowcount, \"Record inserted successfully into Laptop table\")\n",
    "\n",
    "except Error as error:\n",
    "    print(\"Failed to insert record into MySQL table {}\".format(error))\n",
    "\n",
    "finally:\n",
    "    if conn.is_connected():\n",
    "        cursor.close()\n",
    "        conn.close()\n",
    "        print(\"MySQL connection is closed\")\n"
   ]
  }
 ],
 "metadata": {
  "kernelspec": {
   "display_name": "Python 3",
   "language": "python",
   "name": "python3"
  },
  "language_info": {
   "codemirror_mode": {
    "name": "ipython",
    "version": 3
   },
   "file_extension": ".py",
   "mimetype": "text/x-python",
   "name": "python",
   "nbconvert_exporter": "python",
   "pygments_lexer": "ipython3",
   "version": "3.9.6"
  }
 },
 "nbformat": 4,
 "nbformat_minor": 2
}
