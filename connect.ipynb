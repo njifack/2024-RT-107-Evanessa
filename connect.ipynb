{
 "cells": [
  {
   "cell_type": "code",
   "execution_count": 13,
   "metadata": {},
   "outputs": [
    {
     "name": "stdout",
     "output_type": "stream",
     "text": [
      "you are connected to teh database\n"
     ]
    }
   ],
   "source": [
    "# import API\n",
    "import mysql.connector\n",
    "\n",
    "def connect():\n",
    "    \"\"\"connect mysql to the database\"\"\"\n",
    "    conn = None\n",
    "    try:\n",
    "        conn = mysql.connector.connect(\n",
    "            user='root',\n",
    "            password='perscholas1',\n",
    "            database='classicmodels',\n",
    "            host='localhost')\n",
    "        \n",
    "        if conn.is_connected():\n",
    "            print(\"you are connected to teh database\")\n",
    "    except Error as e:\n",
    "        print(e)\n",
    "    finally:\n",
    "        if conn is not None and conn.is_connected():\n",
    "            conn.close()\n",
    "\n",
    "if __name__ == '__main__':\n",
    "    connect()\n",
    "        \n"
   ]
  },
  {
   "cell_type": "code",
   "execution_count": 14,
   "metadata": {},
   "outputs": [
    {
     "name": "stdout",
     "output_type": "stream",
     "text": [
      "Database 'userdb' created successfully\n"
     ]
    }
   ],
   "source": [
    "# create a database using mysql.connect\n",
    "\n",
    "import mysql.connector\n",
    "from mysql.connector import Error\n",
    "\n",
    "def create_database():\n",
    "    \"\"\"Create a MySQL database\"\"\"\n",
    "    conn = None\n",
    "    try:\n",
    "        conn = mysql.connector.connect(\n",
    "            user='root',\n",
    "            password='perscholas1',\n",
    "            host='localhost'\n",
    "        )\n",
    "        cursor = conn.cursor()\n",
    "        cursor.execute(\"CREATE DATABASE IF NOT EXISTS userdb\")\n",
    "        print(\"Database 'userdb' created successfully\")\n",
    "    except Error as e:\n",
    "        print(e)\n",
    "    finally:\n",
    "        if conn is not None and conn.is_connected():\n",
    "            conn.close()\n",
    "\n",
    "if __name__ == '__main__':\n",
    "    create_database()\n",
    "\n",
    "\n"
   ]
  },
  {
   "cell_type": "code",
   "execution_count": 15,
   "metadata": {},
   "outputs": [
    {
     "name": "stdout",
     "output_type": "stream",
     "text": [
      "1050 (42S01): Table 'tasks' already exists\n"
     ]
    }
   ],
   "source": [
    "# CREATE A TABLE\n",
    "import mysql.connector as mydbconnection\n",
    "from mysql.connector import Error\n",
    "\n",
    "def create_table():\n",
    "    conn = None\n",
    "    try:\n",
    "        \n",
    "        conn = mydbconnection.connect(database='userdb', user='root',password='perscholas1', port ='3306')\n",
    "        cursor=conn.cursor()\n",
    "        myquery = \"CREATE TABLE tasks (task_id INT AUTO_INCREMENT,title VARCHAR(255) NOT NULL,\\\n",
    "        start_date DATE,\\\n",
    "        due_date DATE,\\\n",
    "        priority TINYINT NOT NULL DEFAULT 3,\\\n",
    "        description TEXT,\\\n",
    "        PRIMARY KEY (task_id))\"\n",
    "        cursor.execute(myquery)\n",
    "    except Error as e:\n",
    "        print(e)\n",
    "    finally:\n",
    "        if conn is not None and conn.is_connected():\n",
    "            conn.close()\n",
    "    \n",
    "    \n",
    "\n",
    "if __name__ == '__main__':\n",
    "    create_table()\n"
   ]
  },
  {
   "cell_type": "markdown",
   "metadata": {},
   "source": []
  },
  {
   "cell_type": "code",
   "execution_count": null,
   "metadata": {},
   "outputs": [],
   "source": []
  },
  {
   "cell_type": "code",
   "execution_count": null,
   "metadata": {},
   "outputs": [],
   "source": []
  }
 ],
 "metadata": {
  "kernelspec": {
   "display_name": "Python 3",
   "language": "python",
   "name": "python3"
  },
  "language_info": {
   "codemirror_mode": {
    "name": "ipython",
    "version": 3
   },
   "file_extension": ".py",
   "mimetype": "text/x-python",
   "name": "python",
   "nbconvert_exporter": "python",
   "pygments_lexer": "ipython3",
   "version": "3.9.6"
  }
 },
 "nbformat": 4,
 "nbformat_minor": 2
}
